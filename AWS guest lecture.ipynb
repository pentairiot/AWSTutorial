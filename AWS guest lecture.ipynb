{
 "cells": [
  {
   "cell_type": "markdown",
   "metadata": {
    "slideshow": {
     "slide_type": "slide"
    }
   },
   "source": [
    "# Cloud Applications for IoT\n",
    "\n",
    "![Cloud to Ground](https://lecmaterials.s3-us-west-1.amazonaws.com/Cloud2Ground.png)"
   ]
  },
  {
   "cell_type": "markdown",
   "metadata": {
    "extensions": {
     "jupyter_dashboards": {
      "version": 1,
      "views": {
       "grid_default": {
        "col": 0,
        "height": 6,
        "hidden": false,
        "row": 0,
        "width": 12
       },
       "report_default": {
        "hidden": false
       }
      }
     }
    },
    "slideshow": {
     "slide_type": "slide"
    }
   },
   "source": [
    "# What is the Cloud to an IoT Device\n",
    "\n",
    "* Persistence\n",
    "* Intelligence"
   ]
  },
  {
   "cell_type": "markdown",
   "metadata": {
    "extensions": {
     "jupyter_dashboards": {
      "version": 1,
      "views": {
       "grid_default": {},
       "report_default": {
        "hidden": false
       }
      }
     }
    },
    "slideshow": {
     "slide_type": "slide"
    }
   },
   "source": [
    "# Cloud Connection - Protocols Overview\n",
    "\n",
    "* HTTP\n",
    "* MQTT\n",
    "* WebSockets"
   ]
  },
  {
   "cell_type": "markdown",
   "metadata": {
    "slideshow": {
     "slide_type": "slide"
    }
   },
   "source": [
    "# HTTP\n",
    "\n",
    "* Method\n",
    "* Host\n",
    "* Resource\n",
    "* Headers\n",
    "* Query Parameters"
   ]
  },
  {
   "cell_type": "markdown",
   "metadata": {
    "extensions": {
     "jupyter_dashboards": {
      "version": 1,
      "views": {
       "grid_default": {},
       "report_default": {
        "hidden": false
       }
      }
     }
    },
    "slideshow": {
     "slide_type": "slide"
    }
   },
   "source": [
    "# An Aside - IoT Cloud Platforms\n",
    "\n",
    "* AWS\n",
    "* Azure\n",
    "* GCP\n",
    "* ThingWorx"
   ]
  },
  {
   "cell_type": "markdown",
   "metadata": {
    "extensions": {
     "jupyter_dashboards": {
      "version": 1,
      "views": {
       "grid_default": {
        "hidden": true
       },
       "report_default": {
        "hidden": true
       }
      }
     }
    },
    "slideshow": {
     "slide_type": "slide"
    }
   },
   "source": [
    "# Cloud Interface\n",
    "\n",
    "* Machine Interfaces\n",
    "  * Strictly defined (APIs, JSON, HDF5)  \n",
    "* Human Interfaces\n",
    "  * Web or Native App"
   ]
  },
  {
   "cell_type": "markdown",
   "metadata": {
    "slideshow": {
     "slide_type": "slide"
    }
   },
   "source": [
    "# Example Cloud Application\n",
    "\n",
    "* Internet accessible cloud API\n",
    "* Data storage and retrieval"
   ]
  },
  {
   "cell_type": "markdown",
   "metadata": {
    "slideshow": {
     "slide_type": "slide"
    }
   },
   "source": [
    "# API Endpoint with Compute\n",
    "\n",
    "* Serverless Framework\n",
    "    * API Gateway\n",
    "    * Lambda - Python\n",
    "\n",
    "* https://tutorialedge.net/cloud/aws/python-based-lambda-tutorial/"
   ]
  },
  {
   "cell_type": "markdown",
   "metadata": {
    "slideshow": {
     "slide_type": "subslide"
    }
   },
   "source": [
    "# serverless.yml\n",
    "```\n",
    "service: hello-world\n",
    "provider:\n",
    "  name: aws\n",
    "  runtime: python3.6\n",
    "  region: us-west-1\n",
    "```"
   ]
  },
  {
   "cell_type": "markdown",
   "metadata": {
    "slideshow": {
     "slide_type": "subslide"
    }
   },
   "source": [
    "# serverless.yml cont. - Function Definition\n",
    "\n",
    "```\n",
    "functions:\n",
    "  hello:\n",
    "    handler: simple.hello\n",
    "    events:\n",
    "      - http:\n",
    "          path: hello\n",
    "          method: get\n",
    "```"
   ]
  },
  {
   "cell_type": "markdown",
   "metadata": {
    "slideshow": {
     "slide_type": "subslide"
    }
   },
   "source": [
    "# simple.py - AWS Lambda Handler"
   ]
  },
  {
   "cell_type": "code",
   "execution_count": null,
   "metadata": {
    "slideshow": {
     "slide_type": "fragment"
    }
   },
   "outputs": [],
   "source": [
    "def hello(event, context):\n",
    "\n",
    "    response = {\n",
    "        \"statusCode\": 200,\n",
    "        \"body\": 'hello, world'\n",
    "    }\n",
    "\n",
    "    return response"
   ]
  },
  {
   "cell_type": "markdown",
   "metadata": {
    "extensions": {
     "jupyter_dashboards": {
      "version": 1,
      "views": {
       "grid_default": {},
       "report_default": {
        "hidden": false
       }
      }
     }
    },
    "slideshow": {
     "slide_type": "slide"
    }
   },
   "source": [
    "# Cloud Storage\n",
    "\n",
    "* S3\n",
    "* DynamoDB\n",
    "* Relational Database Service (RDS)\n",
    "* ElasticSearch, Aurora Serverless"
   ]
  },
  {
   "cell_type": "markdown",
   "metadata": {
    "slideshow": {
     "slide_type": "subslide"
    }
   },
   "source": [
    "# S3 Upload  Example"
   ]
  },
  {
   "cell_type": "code",
   "execution_count": 15,
   "metadata": {
    "extensions": {
     "jupyter_dashboards": {
      "version": 1,
      "views": {
       "grid_default": {},
       "report_default": {
        "hidden": true
       }
      }
     }
    },
    "slideshow": {
     "slide_type": "fragment"
    }
   },
   "outputs": [
    {
     "name": "stdout",
     "output_type": "stream",
     "text": [
      "Saving file s3://s3.Bucket(name='lecmaterials')/graphthis.json\n",
      "Upload complete\n"
     ]
    }
   ],
   "source": [
    "import boto3\n",
    "import json\n",
    "from io import BytesIO\n",
    "bucket = boto3.resource(\"s3\").Bucket(\"lecmaterials\")\n",
    "key = \"graphthis.json\"\n",
    "obj = BytesIO()\n",
    "obj.write(json.dumps(\"GIANTMETEOR_2020\").encode())   \n",
    "obj.seek(0)\n",
    "print('Saving file s3://%s/%s' % (bucket, key))\n",
    "bucket.Object(key).upload_fileobj(obj)\n",
    "print(\"Upload complete\")"
   ]
  },
  {
   "cell_type": "markdown",
   "metadata": {
    "slideshow": {
     "slide_type": "subslide"
    }
   },
   "source": [
    "# S3 Download Example"
   ]
  },
  {
   "cell_type": "code",
   "execution_count": 16,
   "metadata": {
    "slideshow": {
     "slide_type": "fragment"
    }
   },
   "outputs": [
    {
     "name": "stdout",
     "output_type": "stream",
     "text": [
      "Recovered: GIANTMETEOR_2020\n"
     ]
    }
   ],
   "source": [
    "obj = BytesIO()\n",
    "bucket.Object(key).download_fileobj(obj)\n",
    "obj.seek(0)     # move the cursor to the beginning of the file object\n",
    "stored = json.loads(obj.read().decode('utf-8'))   # return as a string\n",
    "print(\"Recovered: {}\".format(stored))"
   ]
  },
  {
   "cell_type": "markdown",
   "metadata": {
    "slideshow": {
     "slide_type": "slide"
    }
   },
   "source": [
    "# Expanded Example API\n",
    "\n",
    "* POST Data: The API will provide an endpoint to accept a string of data and store it at the provided path.\n",
    "* GET Data: The API will provide an endpoint to accept a path and return the string of data stored there."
   ]
  },
  {
   "cell_type": "markdown",
   "metadata": {
    "slideshow": {
     "slide_type": "subslide"
    }
   },
   "source": [
    "# Events will come in with the format:\n",
    "```\n",
    "{\n",
    "    \"resource\"\n",
    "    \"pathParameters\"\n",
    "    \"httpMethod\"\n",
    "    \"headers\"\n",
    "    \"queryStringParameters\"\n",
    "    \"body\"\n",
    "}\n",
    "```"
   ]
  },
  {
   "cell_type": "markdown",
   "metadata": {
    "slideshow": {
     "slide_type": "subslide"
    }
   },
   "source": [
    "# Expanded AWS API Lambda Handler"
   ]
  },
  {
   "cell_type": "code",
   "execution_count": null,
   "metadata": {
    "slideshow": {
     "slide_type": "fragment"
    }
   },
   "outputs": [],
   "source": [
    "def handle_request(event, context):\n",
    "    print('Received Event: %s' % json.dumps(event))\n",
    "    if event['httpMethod'].lower() == 'get':\n",
    "        return handle_get(event)\n",
    "    elif event['httpMethod'].lower() == 'post':\n",
    "        return handle_post(event)\n",
    "    else:\n",
    "        return {'statusCode': 415, 'body': 'method not allowed'}"
   ]
  },
  {
   "cell_type": "markdown",
   "metadata": {
    "slideshow": {
     "slide_type": "subslide"
    }
   },
   "source": [
    "# Handle POST"
   ]
  },
  {
   "cell_type": "code",
   "execution_count": null,
   "metadata": {
    "slideshow": {
     "slide_type": "fragment"
    }
   },
   "outputs": [],
   "source": [
    "def handle_post(event):\n",
    "    key = event['pathParameters']['key']\n",
    "    # contents needs to be in bytes, not str\n",
    "    contents = event['body'].encode('utf-8') if not isinstance(event['body'], bytes) else event['body']\n",
    "    try:\n",
    "        return {'statusCode': 200, 'body': put_s3_file_contents(key, contents)}\n",
    "    except Exception as e:\n",
    "        return {'statusCode': 500, 'body': 'Something went wrong:\\n\\t%s' % str(e)}"
   ]
  },
  {
   "cell_type": "markdown",
   "metadata": {
    "slideshow": {
     "slide_type": "slide"
    }
   },
   "source": [
    "# Handle S3 Storage"
   ]
  },
  {
   "cell_type": "code",
   "execution_count": null,
   "metadata": {
    "slideshow": {
     "slide_type": "fragment"
    }
   },
   "outputs": [],
   "source": [
    "def put_s3_file_contents(key, contents):\n",
    "    obj = BytesIO()\n",
    "    obj.write(contents)\n",
    "    obj.seek(0)\n",
    "    bucket = os.environ['S3_BUCKET']\n",
    "    print('Saving file s3://%s/%s' % (bucket, key))\n",
    "    boto3.resource('s3').Bucket(bucket).Object(key).upload_fileobj(obj)"
   ]
  },
  {
   "cell_type": "markdown",
   "metadata": {
    "slideshow": {
     "slide_type": "subslide"
    }
   },
   "source": [
    "# Handle GET"
   ]
  },
  {
   "cell_type": "code",
   "execution_count": null,
   "metadata": {
    "slideshow": {
     "slide_type": "fragment"
    }
   },
   "outputs": [],
   "source": [
    "def handle_get(event):\n",
    "    key = event['pathParameters']['key']\n",
    "    try:\n",
    "        return {'statusCode': 200, 'body': get_s3_file_contents(key)}\n",
    "    except ClientError as e:\n",
    "        if '404' in str(e):\n",
    "            return {'statusCode': 404, 'body': 'File with name %s not found' % key}\n",
    "        else:\n",
    "            return {'statusCode': 500, 'body': 'Something went wrong:\\n\\t%s' % str(e)}\n",
    "    except Exception as e2:\n",
    "        return {'statusCode': 500, 'body': 'Something went wrong:\\n\\t%s' % str(e2)}"
   ]
  },
  {
   "cell_type": "markdown",
   "metadata": {
    "slideshow": {
     "slide_type": "subslide"
    }
   },
   "source": [
    "# Handle S3 Retrieval"
   ]
  },
  {
   "cell_type": "code",
   "execution_count": null,
   "metadata": {
    "slideshow": {
     "slide_type": "fragment"
    }
   },
   "outputs": [],
   "source": [
    "def get_s3_file_contents(key):\n",
    "    obj = BytesIO()\n",
    "    bucket = os.environ['S3_BUCKET']\n",
    "    print('Downloading file s3://%s/%s' % (bucket, key))\n",
    "    boto3.resource('s3').Bucket(bucket).Object(key).download_fileobj(obj)\n",
    "    obj.seek(0)     # move the cursor to the beginning of the file object\n",
    "    return obj.read().decode('utf-8')   # return as a string"
   ]
  },
  {
   "cell_type": "markdown",
   "metadata": {
    "extensions": {
     "jupyter_dashboards": {
      "version": 1,
      "views": {
       "grid_default": {},
       "report_default": {
        "hidden": false
       }
      }
     }
    },
    "slideshow": {
     "slide_type": "slide"
    }
   },
   "source": [
    "# Human Interface - Web Application\n",
    "\n",
    "* Hosting a Web App\n",
    "    * Apache, Django, LambdaPage\n",
    "* Building a Web App\n",
    "    * HTML, CSS, Javascript"
   ]
  },
  {
   "cell_type": "markdown",
   "metadata": {
    "extensions": {
     "jupyter_dashboards": {
      "version": 1,
      "views": {
       "grid_default": {},
       "report_default": {
        "hidden": true
       }
      }
     }
    },
    "slideshow": {
     "slide_type": "slide"
    }
   },
   "source": [
    "# Further Reading\n",
    "\n",
    "* Cloud Data Storage - DynamoDB, ElasticSearch, RDS\n",
    "* Cloud Compute - Lambda (Lambda Layers), EC2\n",
    "* Python Libraries - Boto3, LambdaPage, Vaex, BeautifulSoup"
   ]
  }
 ],
 "metadata": {
  "celltoolbar": "Slideshow",
  "extensions": {
   "jupyter_dashboards": {
    "activeView": "report_default",
    "version": 1,
    "views": {
     "grid_default": {
      "cellMargin": 10,
      "defaultCellHeight": 20,
      "maxColumns": 12,
      "name": "grid",
      "type": "grid"
     },
     "report_default": {
      "name": "report",
      "type": "report"
     }
    }
   }
  },
  "kernelspec": {
   "display_name": "Python 3",
   "language": "python",
   "name": "python3"
  },
  "language_info": {
   "codemirror_mode": {
    "name": "ipython",
    "version": 3
   },
   "file_extension": ".py",
   "mimetype": "text/x-python",
   "name": "python",
   "nbconvert_exporter": "python",
   "pygments_lexer": "ipython3",
   "version": "3.6.5"
  }
 },
 "nbformat": 4,
 "nbformat_minor": 2
}
